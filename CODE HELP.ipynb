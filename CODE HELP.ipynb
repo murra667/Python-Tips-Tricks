{
 "cells": [
  {
   "cell_type": "markdown",
   "metadata": {},
   "source": [
    "# A"
   ]
  },
  {
   "cell_type": "markdown",
   "metadata": {},
   "source": [
    "## ArcPY"
   ]
  },
  {
   "cell_type": "markdown",
   "metadata": {},
   "source": [
    "### Feature Classes"
   ]
  },
  {
   "cell_type": "markdown",
   "metadata": {},
   "source": [
    "#### Iterating"
   ]
  },
  {
   "cell_type": "markdown",
   "metadata": {},
   "source": [
    "##### SDE Geodatabase"
   ]
  },
  {
   "cell_type": "code",
   "execution_count": null,
   "metadata": {},
   "outputs": [],
   "source": [
    "r\"Database Connections\\Production_DBTGISPROD.sde\\STORM"
   ]
  },
  {
   "cell_type": "code",
   "execution_count": null,
   "metadata": {},
   "outputs": [],
   "source": [
    "# set name of sde geodatabase\n",
    "sde_name = r\"Database Connections\\Production_DBTGISPROD.sde\"\n",
    "# list to store the feature class names\n",
    "feature_class_list = []\n",
    "# set arcpy environment workspace to sde name\n",
    "arcpy.env.workspace = sde_name\n",
    "# iterate through feature datasets in geodatabase\n",
    "for fd in arcpy.ListDatasets():\n",
    "    # set each feature dataset as a workspace \n",
    "    arcpy.env.workspace = sde_name + \"\\\\\" + str(fd)\n",
    "    # while workspace is set as each feature dataset\n",
    "    # get the names of feature classes within feature dataset\n",
    "    for fc in arcpy.ListFeatureClasses():\n",
    "        # append each feature class to feature_class_list\n",
    "        feature_class_list.append(fc)"
   ]
  },
  {
   "cell_type": "code",
   "execution_count": 2,
   "metadata": {},
   "outputs": [
    {
     "ename": "SyntaxError",
     "evalue": "invalid syntax (<ipython-input-2-e3f8c1e8b3bb>, line 5)",
     "output_type": "error",
     "traceback": [
      "\u001b[1;36m  File \u001b[1;32m\"<ipython-input-2-e3f8c1e8b3bb>\"\u001b[1;36m, line \u001b[1;32m5\u001b[0m\n\u001b[1;33m    for\u001b[0m\n\u001b[1;37m        ^\u001b[0m\n\u001b[1;31mSyntaxError\u001b[0m\u001b[1;31m:\u001b[0m invalid syntax\n"
     ]
    }
   ],
   "source": [
    "# set arcpy workspace\n",
    "arcpy.env.workspace = sde_name\n",
    "# set output path\n",
    "output_path = r\"M:\\PWSWS\\XSHARE\\ParkBoard\\SWSShapefiles\"\n",
    "# iterate through feature classes and copy them to shapefiles\n",
    "for fc in feature_class_list:\n",
    "    new_name = # regular expression to get everything after PWSWS. But perhaps we still need to change the workspace so the name\n",
    "    # doesn't get copied over\n",
    "    # create file path to copy shp to\n",
    "    shp_out = os.path.join(output_path, new_name)\n",
    "            # copy shp to filepath defined in shp_out\n",
    "            arcpy.CopyFeatures_management(lyr, shp_out)\n",
    "    arcpy.FeatureClassToShapefile_conversion((fc, output_path)\n"
   ]
  },
  {
   "cell_type": "markdown",
   "metadata": {},
   "source": [
    "# B"
   ]
  },
  {
   "cell_type": "markdown",
   "metadata": {},
   "source": [
    "## Beautiful Soup"
   ]
  },
  {
   "cell_type": "markdown",
   "metadata": {},
   "source": [
    "### Children"
   ]
  },
  {
   "cell_type": "code",
   "execution_count": 5,
   "metadata": {},
   "outputs": [],
   "source": [
    "# find the children of a tag and \n",
    "# check value of first child tag \n",
    "# to get the value of the second\n",
    "# search for all the parent tags containing children\n",
    "info_couple = soup.find_all('div', class_ = 'pure-u-md-1-2 pure-u-1-1')\n",
    "# iterate through each parent tag\n",
    "for entry in info_couple:\n",
    "    # iterate through the children of the parent tag\n",
    "    for item in entry.findChildren():\n",
    "        # get value of text of children\n",
    "        if item.text == 'Ticket No:':\n",
    "            # if text is desired value, get the text of the \n",
    "            # other child tag text\n",
    "            ticket = [item.text for item in entry.findChildren(class_=\"display-line\")][0]\n",
    "        if item.text == 'Company Name:':\n",
    "            company_name = [item.text for item in entry.findChildren(class_=\"display-line\")][0]\n",
    "        if item.text == 'Contact:':\n",
    "            contact_person = [item.text for item in entry.findChildren(class_=\"display-line\")][0]\n",
    "        if item.text == \"Email Address:\":\n",
    "            email = [item.text for item in entry.findChildren(class_=\"display-line\")][0]"
   ]
  },
  {
   "cell_type": "markdown",
   "metadata": {},
   "source": [
    "# C"
   ]
  },
  {
   "cell_type": "markdown",
   "metadata": {},
   "source": [
    "## CSR Matrix"
   ]
  },
  {
   "cell_type": "markdown",
   "metadata": {},
   "source": [
    "### Extract values from csr matrix"
   ]
  },
  {
   "cell_type": "code",
   "execution_count": null,
   "metadata": {},
   "outputs": [],
   "source": [
    "# extract values from csr_matrix\n",
    "from scipy.sparse import csr_matrix, find\n",
    "matrix_x = find(X)\n",
    "matrix_list = list(matrix_x)"
   ]
  },
  {
   "cell_type": "markdown",
   "metadata": {},
   "source": [
    "# P"
   ]
  },
  {
   "cell_type": "markdown",
   "metadata": {},
   "source": [
    "## Pandas"
   ]
  },
  {
   "cell_type": "markdown",
   "metadata": {},
   "source": [
    "###  Resources"
   ]
  },
  {
   "cell_type": "markdown",
   "metadata": {},
   "source": [
    "https://medium.com/dunder-data/selecting-subsets-of-data-in-pandas-6fcd0170be9c"
   ]
  },
  {
   "cell_type": "markdown",
   "metadata": {},
   "source": [
    "### Merging"
   ]
  },
  {
   "cell_type": "markdown",
   "metadata": {},
   "source": [
    "#### Across Multiple Columns"
   ]
  },
  {
   "cell_type": "code",
   "execution_count": null,
   "metadata": {},
   "outputs": [],
   "source": [
    "# we want to merge on columns A_c1 AND c2, aka left_on, right_on\n",
    "# ignore all other parameters in this instance\n",
    "new_df = pd.merge(A_df, B_df,  how='left', left_on=['A_c1','c2'], right_on = ['B_c1','c2'])"
   ]
  },
  {
   "cell_type": "markdown",
   "metadata": {},
   "source": [
    "#### Array to Dataframe"
   ]
  },
  {
   "cell_type": "code",
   "execution_count": null,
   "metadata": {},
   "outputs": [],
   "source": [
    "# where array is an array of numbers\n",
    "two_dim_df = pd.DataFrame(array, index= range(len(array)))"
   ]
  },
  {
   "cell_type": "markdown",
   "metadata": {},
   "source": [
    "### Drop"
   ]
  },
  {
   "cell_type": "markdown",
   "metadata": {},
   "source": [
    "##### By Columns "
   ]
  },
  {
   "cell_type": "code",
   "execution_count": null,
   "metadata": {},
   "outputs": [],
   "source": [
    "# drop columns B and C\n",
    "df.drop(['B', 'C'], axis=1)\n",
    "# drop columns B and C\n",
    "df.drop(columns=['B', 'C'])"
   ]
  },
  {
   "cell_type": "markdown",
   "metadata": {},
   "source": [
    "##### By Rows"
   ]
  },
  {
   "cell_type": "code",
   "execution_count": null,
   "metadata": {},
   "outputs": [],
   "source": [
    "# drop rows in index position 0 and 1\n",
    "df.drop([0, 1])"
   ]
  },
  {
   "cell_type": "markdown",
   "metadata": {},
   "source": [
    "### Index (setting) on new Dataframe"
   ]
  },
  {
   "cell_type": "code",
   "execution_count": null,
   "metadata": {},
   "outputs": [],
   "source": [
    "# see example in Array to Dataframe"
   ]
  },
  {
   "cell_type": "markdown",
   "metadata": {},
   "source": [
    "### Null Values"
   ]
  },
  {
   "cell_type": "code",
   "execution_count": null,
   "metadata": {},
   "outputs": [],
   "source": [
    "# convert null values\n",
    "df.fillna(value=None, method=None, axis=None, inplace=False, limit=None, downcast=None, **kwargs)"
   ]
  },
  {
   "cell_type": "markdown",
   "metadata": {},
   "source": [
    "### Pivot"
   ]
  },
  {
   "cell_type": "code",
   "execution_count": null,
   "metadata": {},
   "outputs": [],
   "source": [
    "offers_table = pd.pivot_table(df_transactions_offers, values = \"n\" , index = \"customer_name\", columns = \"offer_id\" )"
   ]
  },
  {
   "cell_type": "markdown",
   "metadata": {},
   "source": [
    "### Rename Column By "
   ]
  },
  {
   "cell_type": "markdown",
   "metadata": {},
   "source": [
    "##### Position"
   ]
  },
  {
   "cell_type": "code",
   "execution_count": null,
   "metadata": {},
   "outputs": [],
   "source": [
    "# rename the column in dataframe position 2 to \"c\"\n",
    "df.columns.values[2] = 'c'"
   ]
  },
  {
   "cell_type": "markdown",
   "metadata": {},
   "source": [
    "##### Name"
   ]
  },
  {
   "cell_type": "code",
   "execution_count": null,
   "metadata": {},
   "outputs": [],
   "source": [
    "df.rename(index=str, columns={\"A\": \"a\", \"B\": \"c\"})"
   ]
  },
  {
   "cell_type": "markdown",
   "metadata": {},
   "source": [
    "# R"
   ]
  },
  {
   "cell_type": "markdown",
   "metadata": {},
   "source": [
    "## Regular Expression"
   ]
  },
  {
   "cell_type": "markdown",
   "metadata": {},
   "source": [
    "### Decimal Number"
   ]
  },
  {
   "cell_type": "code",
   "execution_count": 2,
   "metadata": {},
   "outputs": [
    {
     "ename": "SyntaxError",
     "evalue": "unexpected character after line continuation character (<ipython-input-2-810585a40b0f>, line 2)",
     "output_type": "error",
     "traceback": [
      "\u001b[1;36m  File \u001b[1;32m\"<ipython-input-2-810585a40b0f>\"\u001b[1;36m, line \u001b[1;32m2\u001b[0m\n\u001b[1;33m    (\\d*\\.?\\d+)\u001b[0m\n\u001b[1;37m               ^\u001b[0m\n\u001b[1;31mSyntaxError\u001b[0m\u001b[1;31m:\u001b[0m unexpected character after line continuation character\n"
     ]
    }
   ],
   "source": [
    "# below will match either a decimal or non-decimal number\n",
    "(\\d*\\.?\\d+)\n",
    "# ( begin capture group\n",
    "# \\d* any digit zero or more times\n",
    "# \\.? a period zero or one times (i.e. it is optional)\n",
    "# \\d+ any digit one ore more times\n",
    "# ) end capture group"
   ]
  },
  {
   "cell_type": "markdown",
   "metadata": {},
   "source": [
    "### Lookbehind"
   ]
  },
  {
   "cell_type": "markdown",
   "metadata": {},
   "source": [
    "#### Positive"
   ]
  },
  {
   "cell_type": "code",
   "execution_count": 4,
   "metadata": {},
   "outputs": [],
   "source": [
    "# set string\n",
    "string = \"PWSWS.something_name\"\n",
    "# pattern will match a word\n",
    "# that follows \"PWSWS.\"\n",
    "pattern = re.compile(r'(?<=PWSWS.)\\w+')\n",
    "# perform search\n",
    "m = re.search(pattern, str(string))\n",
    "# get object from group object\n",
    "final = m.group(0)"
   ]
  }
 ],
 "metadata": {
  "kernelspec": {
   "display_name": "Python 2",
   "language": "python",
   "name": "python2"
  },
  "language_info": {
   "codemirror_mode": {
    "name": "ipython",
    "version": 2
   },
   "file_extension": ".py",
   "mimetype": "text/x-python",
   "name": "python",
   "nbconvert_exporter": "python",
   "pygments_lexer": "ipython2",
   "version": "2.7.15"
  }
 },
 "nbformat": 4,
 "nbformat_minor": 2
}
